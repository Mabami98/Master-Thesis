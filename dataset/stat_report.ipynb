{
 "cells": [
  {
   "cell_type": "markdown",
   "metadata": {},
   "source": [
    "## CHICAGO DATASET"
   ]
  },
  {
   "cell_type": "code",
   "execution_count": 8,
   "metadata": {},
   "outputs": [
    {
     "name": "stdout",
     "output_type": "stream",
     "text": [
      "\n",
      "--- Crime Data Statistics Report ---\n",
      "\n",
      "Total number of records: 321876\n",
      "Unique offense types (encoded): {0, 1, 2, 3}\n",
      "Latitude range: 41.644604096 to 42.022671246\n",
      "Longitude range: -87.927881741 to -87.524529378\n",
      "Approx. area covered: 41.97 km (N-S) x 33.88 km (E-W)\n",
      "Time range:\n",
      "  Start: 2016-01-01 00:00:00\n",
      "  End  : 2017-12-31 23:50:00\n"
     ]
    }
   ],
   "source": [
    "import time\n",
    "\n",
    "offenseMap = {'THEFT': 0, 'BATTERY': 1, 'ASSAULT': 2, 'CRIMINAL DAMAGE': 3}\n",
    "offenseSet = set()\n",
    "latSet = set()\n",
    "lonSet = set()\n",
    "timeSet = set()\n",
    "data = []\n",
    "\n",
    "with open('/Users/martin/Desktop/STHSL/Datasets/CHI_crime/CHI_Crime.csv', 'r') as fs:\n",
    "    fs.readline()  # Skip header\n",
    "    for line in fs:\n",
    "        arr = line.strip().split(',')\n",
    "        if len(arr) < 4:\n",
    "            continue  # Skip malformed lines\n",
    "\n",
    "        try:\n",
    "            timeArray = time.strptime(arr[0], '%m/%d/%Y %I:%M:%S %p')\n",
    "            timestamp = time.mktime(timeArray)\n",
    "            offense = offenseMap.get(arr[1])\n",
    "            lat = float(arr[2])\n",
    "            lon = float(arr[3])\n",
    "        except Exception as e:\n",
    "            continue  # Skip bad records\n",
    "\n",
    "        if offense is None:\n",
    "            continue\n",
    "\n",
    "        latSet.add(lat)\n",
    "        lonSet.add(lon)\n",
    "        timeSet.add(timestamp)\n",
    "        offenseSet.add(offense)\n",
    "\n",
    "        data.append({\n",
    "            'time': timestamp,\n",
    "            'offense': offense,\n",
    "            'lat': lat,\n",
    "            'lon': lon\n",
    "        })\n",
    "\n",
    "# Stats report\n",
    "print('\\n--- Crime Data Statistics Report ---\\n')\n",
    "print('Total number of records:', len(data))\n",
    "print('Unique offense types (encoded):', offenseSet)\n",
    "print('Latitude range:', min(latSet), 'to', max(latSet))\n",
    "print('Longitude range:', min(lonSet), 'to', max(lonSet))\n",
    "\n",
    "lat_km = (max(latSet) - min(latSet)) * 111\n",
    "lon_km = (max(lonSet) - min(lonSet)) * 84\n",
    "print(f'Approx. area covered: {lat_km:.2f} km (N-S) x {lon_km:.2f} km (E-W)')\n",
    "\n",
    "minTime = min(timeSet)\n",
    "maxTime = max(timeSet)\n",
    "print('Time range:')\n",
    "print('  Start:', time.strftime('%Y-%m-%d %H:%M:%S', time.localtime(minTime)))\n",
    "print('  End  :', time.strftime('%Y-%m-%d %H:%M:%S', time.localtime(maxTime)))\n"
   ]
  },
  {
   "cell_type": "markdown",
   "metadata": {},
   "source": [
    "## NEW YORK DATASET"
   ]
  },
  {
   "cell_type": "code",
   "execution_count": 10,
   "metadata": {},
   "outputs": [
    {
     "name": "stdout",
     "output_type": "stream",
     "text": [
      "\n",
      "--- NYC Crime Data Statistics Report ---\n",
      "\n",
      "Total number of records: 321876\n",
      "Unique offense types (encoded): {0, 1, 2, 3}\n",
      "Latitude range: 41.64460 to 42.02267\n",
      "Longitude range: -87.92788 to -87.52453\n",
      "Approx. area covered: 41.97 km (N–S) × 33.88 km (E–W)\n",
      "Time range:\n",
      "  Start: 2016-01-01 00:00:00\n",
      "  End  : 2017-12-31 23:50:00\n"
     ]
    }
   ],
   "source": [
    "print('\\n--- NYC Crime Data Statistics Report ---\\n')\n",
    "\n",
    "print(f'Total number of records: {len(data)}')\n",
    "print(f'Unique offense types (encoded): {offenseSet}')\n",
    "\n",
    "minLat, maxLat = min(latSet), max(latSet)\n",
    "minLon, maxLon = min(lonSet), max(lonSet)\n",
    "print(f'Latitude range: {minLat:.5f} to {maxLat:.5f}')\n",
    "print(f'Longitude range: {minLon:.5f} to {maxLon:.5f}')\n",
    "\n",
    "lat_km = (maxLat - minLat) * 111\n",
    "lon_km = (maxLon - minLon) * 84\n",
    "print(f'Approx. area covered: {lat_km:.2f} km (N–S) × {lon_km:.2f} km (E–W)')\n",
    "\n",
    "minTime = min(timeSet)\n",
    "maxTime = max(timeSet)\n",
    "print('Time range:')\n",
    "print('  Start:', time.strftime('%Y-%m-%d %H:%M:%S', time.localtime(minTime)))\n",
    "print('  End  :', time.strftime('%Y-%m-%d %H:%M:%S', time.localtime(maxTime)))\n"
   ]
  }
 ],
 "metadata": {
  "kernelspec": {
   "display_name": "Python 3",
   "language": "python",
   "name": "python3"
  },
  "language_info": {
   "codemirror_mode": {
    "name": "ipython",
    "version": 3
   },
   "file_extension": ".py",
   "mimetype": "text/x-python",
   "name": "python",
   "nbconvert_exporter": "python",
   "pygments_lexer": "ipython3",
   "version": "3.13.0"
  }
 },
 "nbformat": 4,
 "nbformat_minor": 2
}
